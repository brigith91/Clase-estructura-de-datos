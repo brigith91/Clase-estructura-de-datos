{
 "cells": [
  {
   "cell_type": "markdown",
   "id": "e00182e2-cef7-4869-b962-026e73a85555",
   "metadata": {},
   "source": [
    "Ejercicio 1: Números pares e impares  \n",
    "Dada una lista de números, crea dos listas separadas: una para los números pares y otra para los números impares"
   ]
  },
  {
   "cell_type": "code",
   "execution_count": 21,
   "id": "0442b359-def4-4eae-b766-51391680e206",
   "metadata": {},
   "outputs": [
    {
     "name": "stdout",
     "output_type": "stream",
     "text": [
      "numeros pares\n",
      " [0, 2, 4, 6, 8, 10, 12, 14, 16, 18, 20, 22, 24, 26, 28, 30, 32, 34, 36, 38, 40, 42, 44, 46, 48, 50, 52, 54, 56, 58, 60, 62, 64, 66, 68, 70, 72, 74, 76, 78, 80, 82, 84, 86, 88, 90, 92, 94, 96, 98]\n",
      "numeros impares\n",
      " [1, 3, 5, 7, 9, 11, 13, 15, 17, 19, 21, 23, 25, 27, 29, 31, 33, 35, 37, 39, 41, 43, 45, 47, 49, 51, 53, 55, 57, 59, 61, 63, 65, 67, 69, 71, 73, 75, 77, 79, 81, 83, 85, 87, 89, 91, 93, 95, 97, 99]\n"
     ]
    }
   ],
   "source": [
    "#opcion 1\n",
    "numeros = range(100)\n",
    "# lleva for para que recorra la lista\n",
    "\n",
    "num_pares: list[int] = []\n",
    "num_impares: list[int] = []\n",
    "for n in numeros:\n",
    "    if n % 2 == 0:\n",
    "        num_pares.append(n)\n",
    "    else:\n",
    "        num_impares.append(n)\n",
    "\n",
    "print(\"numeros pares\" \"\\n\", num_pares )\n",
    "\n",
    "print(\"numeros impares\" \"\\n\", num_impares )"
   ]
  },
  {
   "cell_type": "code",
   "execution_count": 3,
   "id": "b08a0068-3345-48be-a327-91c291242d01",
   "metadata": {},
   "outputs": [
    {
     "name": "stdout",
     "output_type": "stream",
     "text": [
      "numeros_pares [0, 2, 4, 6, 8, 10, 12, 14, 16, 18, 20, 22, 24, 26, 28, 30, 32, 34, 36, 38, 40, 42, 44, 46, 48, 50, 52, 54, 56, 58, 60, 62, 64, 66, 68, 70, 72, 74, 76, 78, 80, 82, 84, 86, 88, 90, 92, 94, 96, 98]\n",
      "numeros_impares\n",
      " [1, 3, 5, 7, 9, 11, 13, 15, 17, 19, 21, 23, 25, 27, 29, 31, 33, 35, 37, 39, 41, 43, 45, 47, 49, 51, 53, 55, 57, 59, 61, 63, 65, 67, 69, 71, 73, 75, 77, 79, 81, 83, 85, 87, 89, 91, 93, 95, 97, 99]\n"
     ]
    }
   ],
   "source": [
    "#opcion 2\n",
    "numeros = range(100)\n",
    "\n",
    "num_pares: list[int] = []\n",
    "num_impares: list[int] = []\n",
    "for n in numeros:\n",
    "    if n % 2 == 0:\n",
    "        num_pares.append(n)\n",
    "\n",
    "    elif n % 2 == 1:\n",
    "        num_impares.append(n)\n",
    "\n",
    "print(\"numeros_pares\", num_pares )\n",
    "\n",
    "print(\"numeros_impares\" \"\\n\", num_impares )\n"
   ]
  },
  {
   "cell_type": "markdown",
   "id": "ed2a2757-783a-4fb6-a05d-6b553817916c",
   "metadata": {},
   "source": [
    "Ejercicio 2: Contador de vocales                                                                                                                        Dada una cadena de texto,cuenta cuantas veces aparece cada vocal (a,e,i,o,u) en el texto."
   ]
  },
  {
   "cell_type": "code",
   "execution_count": 37,
   "id": "1db4ee14-6c79-450c-987e-404731e3e5f2",
   "metadata": {},
   "outputs": [
    {
     "name": "stdout",
     "output_type": "stream",
     "text": [
      " Las vocales contadas son [12, 12, 1, 4, 4, 1, 0, 0, 0, 0]\n"
     ]
    }
   ],
   "source": [
    "#opcion 1\n",
    "texto = 'DadA una cadena de texto, cuenta cuántas veces aparece cada vocal (a, e, i, o, u) en el texto.'\n",
    "vocales: list[str]=[\"a\",\"e\",\"i\",\"o\",\"u\",\"A\" ,\"E\",\"I\",\"O\",\"U\"]\n",
    "\n",
    "\n",
    "conteo = [0,0,0,0,0,0,0,0,0,0]\n",
    "\n",
    "\n",
    "for letra in texto:\n",
    "    if letra in vocales:\n",
    "      if letra == \"a\":\n",
    "        conteo[0] += 1\n",
    "      if letra == \"e\":\n",
    "        conteo[1] += 1\n",
    "      if letra == \"i\":\n",
    "        conteo[2] += 1\n",
    "      if letra == \"o\":\n",
    "        conteo[3] += 1\n",
    "      if letra == \"u\":\n",
    "        conteo[4] += 1\n",
    "      if letra == \"A\":\n",
    "        conteo[5] += 1\n",
    "      if letra == \"E\":\n",
    "        conteo[6] += 1\n",
    "      if letra == \"I\":\n",
    "        conteo[7] += 1\n",
    "      if letra == \"O\":\n",
    "        conteo[8] += 1\n",
    "      if letra == \"U\":\n",
    "        conteo[9] += 1\n",
    "\n",
    "print(\" Las vocales contadas son\", conteo)\n",
    "\n"
   ]
  },
  {
   "cell_type": "code",
   "execution_count": 42,
   "id": "1146b531-09e1-4ede-9e67-d78fd0efbeea",
   "metadata": {},
   "outputs": [
    {
     "name": "stdout",
     "output_type": "stream",
     "text": [
      "Minúsculas: 'a' aparece 12 veces, 'e' aparece 11 veces, 'i' aparece 1 veces, 'o' aparece 4 veces, 'u' aparece 4 veces.\n",
      "Mayúsculas: 'A' aparece 1 veces, 'E' aparece 1 veces, 'I' aparece 0 veces, 'O' aparece 0 veces, 'U' aparece 0 veces.\n"
     ]
    }
   ],
   "source": [
    "texto = \"DadA una cadena de tExto, cuenta cuántas veces aparece cada vocal (a, e, i, o, u) en el texto.\"\n",
    "\n",
    "# vocales minúsculas\n",
    "a:list[str] =texto.count('a')\n",
    "e:list[str]  = texto.count('e')\n",
    "i:list[str]  = texto.count('i')\n",
    "o:list[str]  = texto.count('o')\n",
    "u:list[str] = texto.count('u')\n",
    "\n",
    "# vocales mayúsculas\n",
    "A:list[str]  = texto.count('A')\n",
    "E:list[str]  = texto.count('E')\n",
    "I:list[str]  = texto.count('I')\n",
    "O:list[str]  = texto.count('O')\n",
    "U:list[str]  = texto.count('U')\n",
    "\n",
    "# resultados para minúsculas\n",
    "print(f\"Minúsculas: 'a' aparece {a} veces, 'e' aparece {e} veces, 'i' aparece {i} veces, 'o' aparece {o} veces, 'u' aparece {u} veces.\")\n",
    "\n",
    " #resultados para mayúsculas\n",
    "print(f\"Mayúsculas: 'A' aparece {A} veces, 'E' aparece {E} veces, 'I' aparece {I} veces, 'O' aparece {O} veces, 'U' aparece {U} veces.\")\n"
   ]
  },
  {
   "cell_type": "markdown",
   "id": "1a370c47-de42-44c5-b789-197a16e866ac",
   "metadata": {},
   "source": [
    "Ejercicio 3: Calculadora de promedio\n",
    "\n",
    "Crea una lista de calificaciones y calcula el promedio de las calificaciones."
   ]
  },
  {
   "cell_type": "code",
   "execution_count": 47,
   "id": "57f06b9a-800b-4ca4-8fc6-9d8fe3d16d00",
   "metadata": {},
   "outputs": [
    {
     "name": "stdout",
     "output_type": "stream",
     "text": [
      "Promedio: 4.166666666666667\n",
      "Promedio: 2.866666666666667\n",
      "Promedio: 3.15\n"
     ]
    }
   ],
   "source": [
    "## Opcion 1\n",
    "# Definir las calificaciones\n",
    "calificaciones:list[float] = [\n",
    "    [4, 4.3, 4.8, 5, 2, 4.9],\n",
    "    [2, 3, 1.8, 2.5, 2.9, 5],\n",
    "    [3, 0.3, 0.8, 5, 4.8, 5],\n",
    "]\n",
    "\n",
    "for grupo in calificaciones:\n",
    "    promedio = sum(grupo) / len(grupo)\n",
    "    print(\"Promedio:\", promedio)\n"
   ]
  },
  {
   "cell_type": "code",
   "execution_count": 52,
   "id": "062f7280-c320-4383-9061-3c1df48b770d",
   "metadata": {},
   "outputs": [
    {
     "name": "stdout",
     "output_type": "stream",
     "text": [
      "El promedio del primer grupo es : 4.166666666666667\n",
      "El promedio del segundo grupo es: 2.866666666666667\n",
      "El promedio del tercer grupo es : 3.15\n"
     ]
    }
   ],
   "source": [
    "# Definir las calificaciones\n",
    "calificaciones:list[float]= [\n",
    "    [4, 4.3, 4.8, 5, 2, 4.9],\n",
    "    [2, 3, 1.8, 2.5, 2.9, 5],\n",
    "    [3, 0.3, 0.8, 5, 4.8, 5],\n",
    "]\n",
    "\n",
    "# Seleccionar y calcular el promedio para el primer grupo\n",
    "grupo1:list[float] = calificaciones[0]\n",
    "promedio1:list[float]  = sum(grupo1) / len(grupo1)\n",
    "print(\"El promedio del primer grupo es :\", promedio1)\n",
    "\n",
    "# Seleccionar y calcular el promedio para el segundo grupo\n",
    "grupo2:list[float]  = calificaciones[1]\n",
    "promedio2:list[float]  = sum(grupo2) / len(grupo2)\n",
    "print(\"El promedio del segundo grupo es:\", promedio2)\n",
    "\n",
    "# Seleccionar y calcular el promedio para el tercer grupo\n",
    "grupo3:list[float]  = calificaciones[2]\n",
    "promedio3:list[float]  = sum(grupo3) / len(grupo3)\n",
    "print(\"El promedio del tercer grupo es :\", promedio3)\n",
    "\n"
   ]
  },
  {
   "cell_type": "markdown",
   "id": "54eb9bef-6899-4d1e-b901-1134da1dd545",
   "metadata": {},
   "source": [
    "Ejercicio 4: Eliminar duplicados\n",
    "\n",
    "Dada una lista con elementos duplicados, elimina los duplicados y crea una nueva lista con los elementos únicos."
   ]
  },
  {
   "cell_type": "code",
   "execution_count": 53,
   "id": "56f2ef55-12dd-494e-b946-a367b2e0da18",
   "metadata": {},
   "outputs": [
    {
     "name": "stdout",
     "output_type": "stream",
     "text": [
      "Los lenguajes únicos son :  ['python', 'java', 'ruby', 'php', 'javascript', 'html', 'css', 'c', 'rust', 'go', 'c++', 'c#']\n"
     ]
    }
   ],
   "source": [
    "#opcion 1\n",
    "lenguajes: list[str]= ['python', 'java', 'ruby', 'php', 'javascript', 'html', 'css', 'python', 'c', 'java', 'python', 'java', 'ruby', 'php', 'javascript', 'html', 'css', 'python', 'c', 'java', 'rust', 'go', 'c', 'c++', 'c#', 'c', 'java', 'ruby', 'php', 'javascript', 'html', 'css', 'python', 'c', 'java', 'python', 'java', 'ruby', 'php', 'javascript', 'html', 'css', 'python', 'c', 'java', 'rust', 'go', 'c', 'c++', 'c#', 'c', 'java', 'ruby', 'php', 'javascript', 'html', 'css', 'python', 'c', 'java']\n",
    "\n",
    "lenguajes_unicos: list[str]= []\n",
    "\n",
    "# Recorre la lista original y agrega los elementos únicos a la nueva lista\n",
    "for lenguaje in lenguajes:\n",
    "    if lenguaje not in lenguajes_unicos:\n",
    "        lenguajes_unicos.append(lenguaje)\n",
    "\n",
    "print(\"Los lenguajes únicos son : \", lenguajes_unicos)"
   ]
  },
  {
   "cell_type": "code",
   "execution_count": 56,
   "id": "cd2a1abb-4334-4699-82e2-72ca5a70bd9d",
   "metadata": {},
   "outputs": [
    {
     "name": "stdout",
     "output_type": "stream",
     "text": [
      "Lenguajes sin duplicados son : ['ruby', 'php', 'java', 'javascript', 'python', 'go', 'html', 'c++', 'c#', 'rust', 'c', 'css']\n"
     ]
    }
   ],
   "source": [
    "# opcion2\n",
    "\n",
    "lenguajes:list[str] = ['python', 'java', 'ruby', 'php', 'javascript', 'html', 'css', 'python', 'c', 'java', 'python', 'java', 'ruby', 'php', 'javascript', 'html', 'css', 'python', 'c', 'java', 'rust', 'go', 'c', 'c++', 'c#', 'c', 'java', 'ruby', 'php', 'javascript', 'html', 'css', 'python', 'c', 'java', 'python', 'java', 'ruby', 'php', 'javascript', 'html', 'css', 'python', 'c', 'java', 'rust', 'go', 'c', 'c++', 'c#', 'c', 'java', 'ruby', 'php', 'javascript', 'html', 'css', 'python', 'c', 'java']\n",
    "\n",
    "# Eliminar duplicados usando set y convertirlo de nuevo a lista\n",
    "lenguajes_sin_duplicados:list[str] = list(set(lenguajes))\n",
    "\n",
    "print(\"Lenguajes sin duplicados son :\", lenguajes_sin_duplicados)\n"
   ]
  },
  {
   "cell_type": "markdown",
   "id": "87fc95ac-b3a6-4565-9ae6-d26da6950876",
   "metadata": {},
   "source": [
    "Ejercicio 5: Invertir una lista\n",
    "\n",
    "Dada una lista, inviértela y crea una nueva lista con los elementos invertidos."
   ]
  },
  {
   "cell_type": "code",
   "execution_count": 57,
   "id": "3000c205-6a32-4ca6-8d07-149a370a4ab1",
   "metadata": {},
   "outputs": [
    {
     "name": "stdout",
     "output_type": "stream",
     "text": [
      "La lista invertida es :  [10, 9, 8, 7, 6, 5, 4, 3, 2, 1]\n"
     ]
    }
   ],
   "source": [
    "#opcion 1\n",
    "num: list[int] = [1, 2, 3, 4, 5, 6, 7, 8, 9, 10]\n",
    "\n",
    "num_invertidos: list[int]= num.copy()\n",
    "\n",
    "# método reverse\n",
    "num_invertidos.reverse()\n",
    "\n",
    "print(\"La lista invertida es : \", num_invertidos)"
   ]
  },
  {
   "cell_type": "code",
   "execution_count": 58,
   "id": "78ce027e-5e62-4536-a69a-f0035fdbee8a",
   "metadata": {},
   "outputs": [
    {
     "name": "stdout",
     "output_type": "stream",
     "text": [
      "Lista invertida: [10, 9, 8, 7, 6, 5, 4, 3, 2, 1]\n"
     ]
    }
   ],
   "source": [
    "#opcion 2\n",
    "numeros = [1, 2, 3, 4, 5, 6, 7, 8, 9, 10]\n",
    "\n",
    "# Invertir con slicing\n",
    "num_invertidos = numeros[::-1]\n",
    "\n",
    "print(\"Lista invertida:\", num_invertidos)\n"
   ]
  },
  {
   "cell_type": "code",
   "execution_count": null,
   "id": "6c92eb61-7d1c-4b36-ab0a-80edd5292deb",
   "metadata": {},
   "outputs": [],
   "source": []
  }
 ],
 "metadata": {
  "kernelspec": {
   "display_name": "Python 3 (ipykernel)",
   "language": "python",
   "name": "python3"
  },
  "language_info": {
   "codemirror_mode": {
    "name": "ipython",
    "version": 3
   },
   "file_extension": ".py",
   "mimetype": "text/x-python",
   "name": "python",
   "nbconvert_exporter": "python",
   "pygments_lexer": "ipython3",
   "version": "3.12.3"
  }
 },
 "nbformat": 4,
 "nbformat_minor": 5
}
