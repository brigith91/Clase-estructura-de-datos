{
 "cells": [
  {
   "cell_type": "markdown",
   "id": "3ee5ed66-69ca-45c0-8636-a026ac15254c",
   "metadata": {},
   "source": [
    "Ejercicio 1: Función potencia\n",
    "Escribe una función recursiva que calcule la potencia de un número entero positivo x elevado a un número entero positivo y.\n",
    "\n",
    "Por ejemplo, la potencia de 2 elevado a 3 se calcula como:\n",
    "\n",
    "23=2∗22=2∗2∗21=2∗2∗2∗20=2∗2∗2∗1=8"
   ]
  },
  {
   "cell_type": "code",
   "execution_count": 1,
   "id": "54b6933e-7072-45d8-b6c9-b27fd1fac970",
   "metadata": {},
   "outputs": [
    {
     "name": "stdout",
     "output_type": "stream",
     "text": [
      "8\n"
     ]
    }
   ],
   "source": [
    "#opcion 1\n",
    "base: int=2\n",
    "exponente: int=3\n",
    "resultado: int=base\n",
    "for i in range(exponente-1):\n",
    "    resultado *= base\n",
    "\n",
    "print(resultado)"
   ]
  },
  {
   "cell_type": "code",
   "execution_count": 2,
   "id": "60dd0734-a59d-416c-88c5-37e322670365",
   "metadata": {},
   "outputs": [
    {
     "name": "stdout",
     "output_type": "stream",
     "text": [
      "8\n"
     ]
    }
   ],
   "source": [
    "def potencia (n,m):\n",
    "  if m>0:\n",
    "    return n*potencia(n,m-1)\n",
    "  else:\n",
    "    return 1\n",
    "\n",
    "print(potencia(2,3))"
   ]
  },
  {
   "cell_type": "markdown",
   "id": "c619ce9b-f0a3-4fbd-a64b-4a9c87f6d31a",
   "metadata": {},
   "source": [
    "Ejericio 2: Función Fibonacci\n",
    "Escribe una función recursiva que calcule el n-ésimo término de la secuencia de Fibonacci.\n",
    "\n",
    "La secuencia de Fibonacci se define como:\n",
    "\n",
    "F(n)={1 si n=0 ó 1\n",
    "F(n−1)+F(n−2) = si n>1"
   ]
  },
  {
   "cell_type": "code",
   "execution_count": 14,
   "id": "cb700a26-696e-442a-b6be-8e0d4b02172c",
   "metadata": {},
   "outputs": [
    {
     "name": "stdout",
     "output_type": "stream",
     "text": [
      "89\n"
     ]
    }
   ],
   "source": [
    "#opcion 1\n",
    "def fibonacci(n):\n",
    "    if n == 0 or n == 1:\n",
    "        return 1\n",
    "    elif n > 1:\n",
    "      return fibonacci(n - 1) + fibonacci(n - 2)\n",
    "    else:\n",
    "      return 0\n",
    "\n",
    "fibonacci(10)\n",
    "print(fibonacci(10))\n"
   ]
  },
  {
   "cell_type": "markdown",
   "id": "9d45d6aa-032a-431f-9768-d807641a7d76",
   "metadata": {},
   "source": [
    "Ejercicio 3: Función de Ackermann\n",
    "Escribe una función recursiva que calcule la función de Ackermann.\n",
    "\n",
    "La función de Ackermann se define como:\n",
    "\n",
    "A(m,n)=⎨n+1 si m=0\n",
    "A(m−1,1)= si m>0 y n=0\n",
    "A(m−1,A(m,n−1))=si m>0 y n>0"
   ]
  },
  {
   "cell_type": "code",
   "execution_count": 33,
   "id": "f12c33d3-13bb-4804-857a-9d619d1def48",
   "metadata": {},
   "outputs": [
    {
     "name": "stdout",
     "output_type": "stream",
     "text": [
      "4\n"
     ]
    }
   ],
   "source": [
    "def ackermann(m, n):\n",
    "\n",
    "  if m==0:\n",
    "    return n+1\n",
    "  elif m>0 and n==0:\n",
    "    return ackermann(m-1,1)\n",
    "  elif m>0 and n>0:\n",
    "    return ackermann(m-1,ackermann(m,n-1))\n",
    "  else:\n",
    "    return 0\n",
    "\n",
    "print(ackermann(1,2))"
   ]
  },
  {
   "cell_type": "code",
   "execution_count": null,
   "id": "44351f3b-51b3-43b1-a6cd-766202b4a5da",
   "metadata": {},
   "outputs": [],
   "source": []
  }
 ],
 "metadata": {
  "kernelspec": {
   "display_name": "Python 3 (ipykernel)",
   "language": "python",
   "name": "python3"
  },
  "language_info": {
   "codemirror_mode": {
    "name": "ipython",
    "version": 3
   },
   "file_extension": ".py",
   "mimetype": "text/x-python",
   "name": "python",
   "nbconvert_exporter": "python",
   "pygments_lexer": "ipython3",
   "version": "3.12.3"
  }
 },
 "nbformat": 4,
 "nbformat_minor": 5
}
